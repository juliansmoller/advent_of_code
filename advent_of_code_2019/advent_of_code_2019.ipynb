{
 "cells": [
  {
   "cell_type": "code",
   "execution_count": 1,
   "metadata": {},
   "outputs": [],
   "source": [
    "read_me = '''\n",
    "\n",
    "Julian Smoller\n",
    "2019.12\n",
    "\n",
    "The purpose of this notebook is to complete the problems \n",
    "presented in the \"Advent of Code\" challenge for 2019. \n",
    "\n",
    "https://adventofcode.com/\n",
    "\n",
    "'''"
   ]
  },
  {
   "cell_type": "markdown",
   "metadata": {},
   "source": [
    "# Setup"
   ]
  },
  {
   "cell_type": "code",
   "execution_count": 1,
   "metadata": {},
   "outputs": [],
   "source": [
    "import pandas as pd\n",
    "import numpy as np"
   ]
  },
  {
   "cell_type": "markdown",
   "metadata": {},
   "source": [
    "# Problem 1a"
   ]
  },
  {
   "cell_type": "raw",
   "metadata": {},
   "source": [
    "The Elves quickly load you into a spacecraft and prepare to launch.\n",
    "\n",
    "At the first Go / No Go poll, every Elf is Go until the Fuel Counter-Upper. They haven't determined the amount of fuel required yet.\n",
    "\n",
    "Fuel required to launch a given module is based on its mass. Specifically, to find the fuel required for a module, take its mass, divide by three, round down, and subtract 2.\n",
    "\n",
    "For example:\n",
    "\n",
    "For a mass of 12, divide by 3 and round down to get 4, then subtract 2 to get 2.\n",
    "For a mass of 14, dividing by 3 and rounding down still yields 4, so the fuel required is also 2.\n",
    "For a mass of 1969, the fuel required is 654.\n",
    "For a mass of 100756, the fuel required is 33583.\n",
    "The Fuel Counter-Upper needs to know the total fuel requirement. To find it, individually calculate the fuel needed for the mass of each module (your puzzle input), then add together all the fuel values.\n",
    "\n",
    "What is the sum of the fuel requirements for all of the modules on your spacecraft?"
   ]
  },
  {
   "cell_type": "code",
   "execution_count": 2,
   "metadata": {},
   "outputs": [
    {
     "data": {
      "text/html": [
       "<div>\n",
       "<style scoped>\n",
       "    .dataframe tbody tr th:only-of-type {\n",
       "        vertical-align: middle;\n",
       "    }\n",
       "\n",
       "    .dataframe tbody tr th {\n",
       "        vertical-align: top;\n",
       "    }\n",
       "\n",
       "    .dataframe thead th {\n",
       "        text-align: right;\n",
       "    }\n",
       "</style>\n",
       "<table border=\"1\" class=\"dataframe\">\n",
       "  <thead>\n",
       "    <tr style=\"text-align: right;\">\n",
       "      <th></th>\n",
       "      <th>input_mass</th>\n",
       "    </tr>\n",
       "  </thead>\n",
       "  <tbody>\n",
       "    <tr>\n",
       "      <th>0</th>\n",
       "      <td>138486</td>\n",
       "    </tr>\n",
       "    <tr>\n",
       "      <th>1</th>\n",
       "      <td>133535</td>\n",
       "    </tr>\n",
       "    <tr>\n",
       "      <th>2</th>\n",
       "      <td>66101</td>\n",
       "    </tr>\n",
       "  </tbody>\n",
       "</table>\n",
       "</div>"
      ],
      "text/plain": [
       "   input_mass\n",
       "0      138486\n",
       "1      133535\n",
       "2       66101"
      ]
     },
     "execution_count": 2,
     "metadata": {},
     "output_type": "execute_result"
    }
   ],
   "source": [
    "# Load input data\n",
    "path = 'advent_of_code_2019_data/problem_01_input.txt'\n",
    "txt = open(path,'r').read()\n",
    "lines = txt.split('\\n')\n",
    "df0 = pd.DataFrame({'input_mass':[int(x) for x in lines]})\n",
    "df0.head(3)"
   ]
  },
  {
   "cell_type": "code",
   "execution_count": 3,
   "metadata": {},
   "outputs": [],
   "source": [
    "# Define key function and test\n",
    "f = lambda x: int(x/3)-2\n",
    "tests = [(12,2), (14,2), (1969, 654), (100756,33583)]\n",
    "for (x,y) in tests:\n",
    "    assert f(x)==y, f'uh oh! f({x})!={y}'"
   ]
  },
  {
   "cell_type": "code",
   "execution_count": 4,
   "metadata": {},
   "outputs": [
    {
     "data": {
      "text/html": [
       "<div>\n",
       "<style scoped>\n",
       "    .dataframe tbody tr th:only-of-type {\n",
       "        vertical-align: middle;\n",
       "    }\n",
       "\n",
       "    .dataframe tbody tr th {\n",
       "        vertical-align: top;\n",
       "    }\n",
       "\n",
       "    .dataframe thead th {\n",
       "        text-align: right;\n",
       "    }\n",
       "</style>\n",
       "<table border=\"1\" class=\"dataframe\">\n",
       "  <thead>\n",
       "    <tr style=\"text-align: right;\">\n",
       "      <th></th>\n",
       "      <th>input_mass</th>\n",
       "      <th>fuel_required</th>\n",
       "    </tr>\n",
       "  </thead>\n",
       "  <tbody>\n",
       "    <tr>\n",
       "      <th>0</th>\n",
       "      <td>138486</td>\n",
       "      <td>46160</td>\n",
       "    </tr>\n",
       "    <tr>\n",
       "      <th>1</th>\n",
       "      <td>133535</td>\n",
       "      <td>44509</td>\n",
       "    </tr>\n",
       "    <tr>\n",
       "      <th>2</th>\n",
       "      <td>66101</td>\n",
       "      <td>22031</td>\n",
       "    </tr>\n",
       "  </tbody>\n",
       "</table>\n",
       "</div>"
      ],
      "text/plain": [
       "   input_mass  fuel_required\n",
       "0      138486          46160\n",
       "1      133535          44509\n",
       "2       66101          22031"
      ]
     },
     "execution_count": 4,
     "metadata": {},
     "output_type": "execute_result"
    }
   ],
   "source": [
    "# Apply function to data\n",
    "df1a = df0.copy()\n",
    "df1a['fuel_required'] = df1a.input_mass.map(f)\n",
    "df1a.head(3)"
   ]
  },
  {
   "cell_type": "code",
   "execution_count": 5,
   "metadata": {},
   "outputs": [
    {
     "name": "stdout",
     "output_type": "stream",
     "text": [
      "3515171\n"
     ]
    }
   ],
   "source": [
    "# Calculate answer\n",
    "Y = df1a.fuel_required.sum()\n",
    "print(Y)\n",
    "# >> 3515171"
   ]
  },
  {
   "cell_type": "markdown",
   "metadata": {},
   "source": [
    "# Problem 1b"
   ]
  },
  {
   "cell_type": "raw",
   "metadata": {},
   "source": [
    "During the second Go / No Go poll, the Elf in charge of the Rocket Equation Double-Checker stops the launch sequence. Apparently, you forgot to include additional fuel for the fuel you just added.\n",
    "\n",
    "Fuel itself requires fuel just like a module - take its mass, divide by three, round down, and subtract 2. However, that fuel also requires fuel, and that fuel requires fuel, and so on. Any mass that would require negative fuel should instead be treated as if it requires zero fuel; the remaining mass, if any, is instead handled by wishing really hard, which has no mass and is outside the scope of this calculation.\n",
    "\n",
    "So, for each module mass, calculate its fuel and add it to the total. Then, treat the fuel amount you just calculated as the input mass and repeat the process, continuing until a fuel requirement is zero or negative. For example:\n",
    "\n",
    "A module of mass 14 requires 2 fuel. This fuel requires no further fuel (2 divided by 3 and rounded down is 0, which would call for a negative fuel), so the total fuel required is still just 2.\n",
    "At first, a module of mass 1969 requires 654 fuel. Then, this fuel requires 216 more fuel (654 / 3 - 2). 216 then requires 70 more fuel, which requires 21 fuel, which requires 5 fuel, which requires no further fuel. So, the total fuel required for a module of mass 1969 is 654 + 216 + 70 + 21 + 5 = 966.\n",
    "\n",
    "The fuel required by a module of mass 100756 and its fuel is: 33583 + 11192 + 3728 + 1240 + 411 + 135 + 43 + 12 + 2 = 50346.\n",
    "\n",
    "What is the sum of the fuel requirements for all of the modules on your spacecraft when also taking into account the mass of the added fuel? (Calculate the fuel requirements for each module separately, then add them all up at the end.)"
   ]
  },
  {
   "cell_type": "code",
   "execution_count": 6,
   "metadata": {},
   "outputs": [
    {
     "data": {
      "text/html": [
       "<div>\n",
       "<style scoped>\n",
       "    .dataframe tbody tr th:only-of-type {\n",
       "        vertical-align: middle;\n",
       "    }\n",
       "\n",
       "    .dataframe tbody tr th {\n",
       "        vertical-align: top;\n",
       "    }\n",
       "\n",
       "    .dataframe thead th {\n",
       "        text-align: right;\n",
       "    }\n",
       "</style>\n",
       "<table border=\"1\" class=\"dataframe\">\n",
       "  <thead>\n",
       "    <tr style=\"text-align: right;\">\n",
       "      <th></th>\n",
       "      <th>input_mass</th>\n",
       "      <th>fuel_required</th>\n",
       "    </tr>\n",
       "  </thead>\n",
       "  <tbody>\n",
       "    <tr>\n",
       "      <th>0</th>\n",
       "      <td>138486</td>\n",
       "      <td>46160</td>\n",
       "    </tr>\n",
       "    <tr>\n",
       "      <th>1</th>\n",
       "      <td>133535</td>\n",
       "      <td>44509</td>\n",
       "    </tr>\n",
       "    <tr>\n",
       "      <th>2</th>\n",
       "      <td>66101</td>\n",
       "      <td>22031</td>\n",
       "    </tr>\n",
       "  </tbody>\n",
       "</table>\n",
       "</div>"
      ],
      "text/plain": [
       "   input_mass  fuel_required\n",
       "0      138486          46160\n",
       "1      133535          44509\n",
       "2       66101          22031"
      ]
     },
     "execution_count": 6,
     "metadata": {},
     "output_type": "execute_result"
    }
   ],
   "source": [
    "# Copy input data\n",
    "df1b = df1a.copy()\n",
    "df1b.head(3)"
   ]
  },
  {
   "cell_type": "code",
   "execution_count": 7,
   "metadata": {},
   "outputs": [
    {
     "name": "stdout",
     "output_type": "stream",
     "text": [
      "f(14) = 2 == 2\n",
      "f(1969) = 966 == 966\n",
      "f(100756) = 50346 == 50346\n"
     ]
    }
   ],
   "source": [
    "# Define key function\n",
    "def f1(x):\n",
    "    return int(x/3)-2\n",
    "\n",
    "def f2(x):\n",
    "    y = []\n",
    "    while x>=3:\n",
    "        y.append(x)\n",
    "        x = f1(x) # divide by 3, round down, subtract 2\n",
    "        if 0<x<3:\n",
    "            y.append(x)\n",
    "    return y\n",
    "\n",
    "def f3(x):\n",
    "    return sum(x[1:])\n",
    "\n",
    "# Define composite function\n",
    "def f(x):\n",
    "    y = f3(f2(x))\n",
    "    return y\n",
    "\n",
    "tests = [(14,2), (1969, 966), (100756,50346)]\n",
    "for (x,y) in tests:\n",
    "    fx = f(x)\n",
    "    print(f'f({x}) = {fx} == {y}')\n",
    "    assert fx==y, f'uh oh! f({x}) = {fx} != {y}'"
   ]
  },
  {
   "cell_type": "code",
   "execution_count": 8,
   "metadata": {},
   "outputs": [
    {
     "data": {
      "text/html": [
       "<div>\n",
       "<style scoped>\n",
       "    .dataframe tbody tr th:only-of-type {\n",
       "        vertical-align: middle;\n",
       "    }\n",
       "\n",
       "    .dataframe tbody tr th {\n",
       "        vertical-align: top;\n",
       "    }\n",
       "\n",
       "    .dataframe thead th {\n",
       "        text-align: right;\n",
       "    }\n",
       "</style>\n",
       "<table border=\"1\" class=\"dataframe\">\n",
       "  <thead>\n",
       "    <tr style=\"text-align: right;\">\n",
       "      <th></th>\n",
       "      <th>input_mass</th>\n",
       "      <th>fuel_required</th>\n",
       "      <th>total_fuel_required</th>\n",
       "    </tr>\n",
       "  </thead>\n",
       "  <tbody>\n",
       "    <tr>\n",
       "      <th>0</th>\n",
       "      <td>138486</td>\n",
       "      <td>46160</td>\n",
       "      <td>69210</td>\n",
       "    </tr>\n",
       "    <tr>\n",
       "      <th>1</th>\n",
       "      <td>133535</td>\n",
       "      <td>44509</td>\n",
       "      <td>66734</td>\n",
       "    </tr>\n",
       "    <tr>\n",
       "      <th>2</th>\n",
       "      <td>66101</td>\n",
       "      <td>22031</td>\n",
       "      <td>33020</td>\n",
       "    </tr>\n",
       "  </tbody>\n",
       "</table>\n",
       "</div>"
      ],
      "text/plain": [
       "   input_mass  fuel_required  total_fuel_required\n",
       "0      138486          46160                69210\n",
       "1      133535          44509                66734\n",
       "2       66101          22031                33020"
      ]
     },
     "execution_count": 8,
     "metadata": {},
     "output_type": "execute_result"
    }
   ],
   "source": [
    "df1b['total_fuel_required'] = df1b.input_mass.map(f)\n",
    "df1b.head(3)"
   ]
  },
  {
   "cell_type": "code",
   "execution_count": 9,
   "metadata": {},
   "outputs": [
    {
     "name": "stdout",
     "output_type": "stream",
     "text": [
      "5269882\n"
     ]
    }
   ],
   "source": [
    "# Calculate answer\n",
    "Y = df1b.total_fuel_required.sum()\n",
    "print(Y)\n",
    "# >> 5269882"
   ]
  },
  {
   "cell_type": "markdown",
   "metadata": {},
   "source": [
    "# Problem 2a"
   ]
  },
  {
   "cell_type": "raw",
   "metadata": {},
   "source": [
    "An Intcode program is a list of integers separated by commas (like 1,0,0,3,99). To run one, start by looking at the first integer (called position 0). Here, you will find an opcode - either 1, 2, or 99. The opcode indicates what to do; for example, 99 means that the program is finished and should immediately halt. Encountering an unknown opcode means something went wrong.\n",
    "\n",
    "Opcode 1 adds together numbers read from two positions and stores the result in a third position. The three integers immediately after the opcode tell you these three positions - the first two indicate the positions from which you should read the input values, and the third indicates the position at which the output should be stored.\n",
    "\n",
    "For example, if your Intcode computer encounters 1,10,20,30, it should read the values at positions 10 and 20, add those values, and then overwrite the value at position 30 with their sum.\n",
    "\n",
    "Opcode 2 works exactly like opcode 1, except it multiplies the two inputs instead of adding them. Again, the three integers after the opcode indicate where the inputs and outputs are, not their values.\n",
    "\n",
    "Once you're done processing an opcode, move to the next one by stepping forward 4 positions.\n",
    "\n",
    "For example, suppose you have the following program:\n",
    "\n",
    "1,9,10,3,2,3,11,0,99,30,40,50\n",
    "For the purposes of illustration, here is the same program split into multiple lines:\n",
    "\n",
    "1,9,10,3,\n",
    "2,3,11,0,\n",
    "99,\n",
    "30,40,50\n",
    "The first four integers, 1,9,10,3, are at positions 0, 1, 2, and 3. Together, they represent the first opcode (1, addition), the positions of the two inputs (9 and 10), and the position of the output (3). To handle this opcode, you first need to get the values at the input positions: position 9 contains 30, and position 10 contains 40. Add these numbers together to get 70. Then, store this value at the output position; here, the output position (3) is at position 3, so it overwrites itself. Afterward, the program looks like this:\n",
    "\n",
    "1,9,10,70,\n",
    "2,3,11,0,\n",
    "99,\n",
    "30,40,50\n",
    "Step forward 4 positions to reach the next opcode, 2. This opcode works just like the previous, but it multiplies instead of adding. The inputs are at positions 3 and 11; these positions contain 70 and 50 respectively. Multiplying these produces 3500; this is stored at position 0:\n",
    "\n",
    "3500,9,10,70,\n",
    "2,3,11,0,\n",
    "99,\n",
    "30,40,50\n",
    "Stepping forward 4 more positions arrives at opcode 99, halting the program.\n",
    "\n",
    "Here are the initial and final states of a few more small programs:\n",
    "\n",
    "1,0,0,0,99 becomes 2,0,0,0,99 (1 + 1 = 2).\n",
    "2,3,0,3,99 becomes 2,3,0,6,99 (3 * 2 = 6).\n",
    "2,4,4,5,99,0 becomes 2,4,4,5,99,9801 (99 * 99 = 9801).\n",
    "1,1,1,4,99,5,6,0,99 becomes 30,1,1,4,2,5,6,0,99.\n",
    "Once you have a working computer, the first step is to restore the gravity assist program (your puzzle input) to the \"1202 program alarm\" state it had just before the last computer caught fire. To do this, before running the program, replace position 1 with the value 12 and replace position 2 with the value 2. What value is left at position 0 after the program halts?"
   ]
  },
  {
   "cell_type": "code",
   "execution_count": 78,
   "metadata": {},
   "outputs": [],
   "source": [
    "# Define key function\n",
    "def f(X):\n",
    "    Y = X.copy()\n",
    "    i = 0\n",
    "    while i<len(Y):\n",
    "        if Y[i]==99:\n",
    "            break\n",
    "        elif Y[i]==1:\n",
    "            i1, i2, i3 = Y[i+1], Y[i+2], Y[i+3]\n",
    "            Y[i3] =Y[i1] + Y[i2]\n",
    "        elif Y[i]==2:\n",
    "            i1, i2, i3 = Y[i+1], Y[i+2], Y[i+3]\n",
    "            Y[i3] = Y[i1] * Y[i2]\n",
    "        i+=4\n",
    "    return Y"
   ]
  },
  {
   "cell_type": "code",
   "execution_count": 79,
   "metadata": {},
   "outputs": [
    {
     "name": "stdout",
     "output_type": "stream",
     "text": [
      "[1, 0, 0, 0, 99] [2, 0, 0, 0, 99] [2, 0, 0, 0, 99]\n",
      "True\n",
      "[2, 3, 0, 3, 99] [2, 3, 0, 6, 99] [2, 3, 0, 6, 99]\n",
      "True\n",
      "[2, 4, 4, 5, 99, 0] [2, 4, 4, 5, 99, 9801] [2, 4, 4, 5, 99, 9801]\n",
      "True\n",
      "[1, 1, 1, 4, 99, 5, 6, 0, 99] [30, 1, 1, 4, 2, 5, 6, 0, 99] [30, 1, 1, 4, 2, 5, 6, 0, 99]\n",
      "True\n"
     ]
    }
   ],
   "source": [
    "# Test\n",
    "tests = [\n",
    "    ([1,0,0,0,99], [2,0,0,0,99])\n",
    "    ,([2,3,0,3,99], [2,3,0,6,99])\n",
    "    ,([2,4,4,5,99,0], [2,4,4,5,99,9801])\n",
    "    ,([1,1,1,4,99,5,6,0,99], [30,1,1,4,2,5,6,0,99])\n",
    "]\n",
    "for (x,y) in tests:\n",
    "    fx = f(x)\n",
    "    print(x, fx, y)\n",
    "    print(str(fx)==str(y))"
   ]
  },
  {
   "cell_type": "code",
   "execution_count": 81,
   "metadata": {},
   "outputs": [
    {
     "name": "stdout",
     "output_type": "stream",
     "text": [
      "[1, 12, 2, 3, 1, 1, 2, 3, 1, 3, 4, 3, 1, 5, 0, 3, 2, 1, 10, 19, 1, 6, 19, 23, 2, 23, 6, 27, 2, 6, 27, 31, 2, 13, 31, 35, 1, 10, 35, 39, 2, 39, 13, 43, 1, 43, 13, 47, 1, 6, 47, 51, 1, 10, 51, 55, 2, 55, 6, 59, 1, 5, 59, 63, 2, 9, 63, 67, 1, 6, 67, 71, 2, 9, 71, 75, 1, 6, 75, 79, 2, 79, 13, 83, 1, 83, 10, 87, 1, 13, 87, 91, 1, 91, 10, 95, 2, 9, 95, 99, 1, 5, 99, 103, 2, 10, 103, 107, 1, 107, 2, 111, 1, 111, 5, 0, 99, 2, 14, 0, 0]\n"
     ]
    }
   ],
   "source": [
    "# Load input\n",
    "X_input_text = '''1,0,0,3,1,1,2,3,1,3,4,3,1,5,0,3,2,1,10,19,1,6,19,23,2,23,6,\n",
    "27,2,6,27,31,2,13,31,35,1,10,35,39,2,39,13,43,1,43,13,47,1,6,47,51,1,10,51,55,2,\n",
    "55,6,59,1,5,59,63,2,9,63,67,1,6,67,71,2,9,71,75,1,6,75,79,2,79,13,83,1,83,10,87,\n",
    "1,13,87,91,1,91,10,95,2,9,95,99,1,5,99,103,2,10,103,107,1,107,2,111,1,111,5,0,99,2,14,0,0\n",
    "'''.replace('\\n','')\n",
    "X_input = [int(x) for x in X_input_text.split(',')]\n",
    "\n",
    "# Pre-process input according to instructions\n",
    "# \"... replace position 1 with the value 12 and replace position 2 with the value 2.\"\n",
    "X = X_input.copy()\n",
    "X[1] = 12\n",
    "X[2] = 2\n",
    "print(X)"
   ]
  },
  {
   "cell_type": "code",
   "execution_count": 82,
   "metadata": {},
   "outputs": [
    {
     "name": "stdout",
     "output_type": "stream",
     "text": [
      "[5434663, 12, 2, 2, 1, 1, 2, 3, 1, 3, 4, 3, 1, 5, 0, 3, 2, 1, 10, 48, 1, 6, 19, 50, 2, 23, 6, 100, 2, 6, 27, 200, 2, 13, 31, 1000, 1, 10, 35, 1004, 2, 39, 13, 5020, 1, 43, 13, 5025, 1, 6, 47, 5027, 1, 10, 51, 5031, 2, 55, 6, 10062, 1, 5, 59, 10063, 2, 9, 63, 30189, 1, 6, 67, 30191, 2, 9, 71, 90573, 1, 6, 75, 90575, 2, 79, 13, 452875, 1, 83, 10, 452879, 1, 13, 87, 452884, 1, 91, 10, 452888, 2, 9, 95, 1358664, 1, 5, 99, 1358665, 2, 10, 103, 5434660, 1, 107, 2, 5434662, 1, 111, 5, 0, 99, 2, 14, 0, 0]\n"
     ]
    }
   ],
   "source": [
    "# Process the input\n",
    "Y = f(X)\n",
    "print(Y)"
   ]
  },
  {
   "cell_type": "code",
   "execution_count": 83,
   "metadata": {},
   "outputs": [
    {
     "name": "stdout",
     "output_type": "stream",
     "text": [
      "5434663\n"
     ]
    }
   ],
   "source": [
    "# Get the specific output requested:\n",
    "# \"What value is left at position 0 after the program halts?\"\n",
    "y = Y[0]\n",
    "print(y)\n",
    "# >> 5434663"
   ]
  },
  {
   "cell_type": "markdown",
   "metadata": {},
   "source": [
    "# Problem 2b"
   ]
  },
  {
   "cell_type": "raw",
   "metadata": {},
   "source": [
    "Intcode programs are given as a list of integers; these values are used as the initial state for the computer's memory. When you run an Intcode program, make sure to start by initializing memory to the program's values. A position in memory is called an address (for example, the first value in memory is at \"address 0\").\n",
    "\n",
    "Opcodes (like 1, 2, or 99) mark the beginning of an instruction. The values used immediately after an opcode, if any, are called the instruction's parameters. For example, in the instruction 1,2,3,4, 1 is the opcode; 2, 3, and 4 are the parameters. The instruction 99 contains only an opcode and has no parameters.\n",
    "\n",
    "The address of the current instruction is called the instruction pointer; it starts at 0. After an instruction finishes, the instruction pointer increases by the number of values in the instruction; until you add more instructions to the computer, this is always 4 (1 opcode + 3 parameters) for the add and multiply instructions. (The halt instruction would increase the instruction pointer by 1, but it halts the program instead.)\n",
    "\n",
    "\"With terminology out of the way, we're ready to proceed. To complete the gravity assist, you need to determine what pair of inputs produces the output 19690720.\"\n",
    "\n",
    "The inputs should still be provided to the program by replacing the values at addresses 1 and 2, just like before. In this program, the value placed in address 1 is called the noun, and the value placed in address 2 is called the verb. Each of the two input values will be between 0 and 99, inclusive.\n",
    "\n",
    "Once the program has halted, its output is available at address 0, also just like before. Each time you try a pair of inputs, make sure you first reset the computer's memory to the values in the program (your puzzle input) - in other words, don't reuse memory from a previous attempt.\n",
    "\n",
    "Find the input noun and verb that cause the program to produce the output 19690720. What is 100 * noun + verb? (For example, if noun=12 and verb=2, the answer would be 1202.)"
   ]
  },
  {
   "cell_type": "code",
   "execution_count": 89,
   "metadata": {},
   "outputs": [
    {
     "name": "stdout",
     "output_type": "stream",
     "text": [
      "1\n"
     ]
    }
   ],
   "source": [
    "# Iterate over possible inputs and log outputs\n",
    "df = []\n",
    "for x1 in range(0,100):\n",
    "    for x2 in range(0,100):\n",
    "        X = X_input.copy()\n",
    "        X[1] = x1\n",
    "        X[2] = x2\n",
    "        Y = f(X)\n",
    "        y = Y[0]\n",
    "        df.append({'x1':x1, 'x2':x2, 'Y':Y, 'y':y})\n",
    "    \n",
    "df = pd.DataFrame(df)\n",
    "\n",
    "# Find the desired output\n",
    "dfy = df[df.y==19690720]\n",
    "print(len(dfy))"
   ]
  },
  {
   "cell_type": "code",
   "execution_count": 90,
   "metadata": {},
   "outputs": [
    {
     "data": {
      "text/html": [
       "<div>\n",
       "<style scoped>\n",
       "    .dataframe tbody tr th:only-of-type {\n",
       "        vertical-align: middle;\n",
       "    }\n",
       "\n",
       "    .dataframe tbody tr th {\n",
       "        vertical-align: top;\n",
       "    }\n",
       "\n",
       "    .dataframe thead th {\n",
       "        text-align: right;\n",
       "    }\n",
       "</style>\n",
       "<table border=\"1\" class=\"dataframe\">\n",
       "  <thead>\n",
       "    <tr style=\"text-align: right;\">\n",
       "      <th></th>\n",
       "      <th>Y</th>\n",
       "      <th>x1</th>\n",
       "      <th>x2</th>\n",
       "      <th>y</th>\n",
       "    </tr>\n",
       "  </thead>\n",
       "  <tbody>\n",
       "    <tr>\n",
       "      <th>4559</th>\n",
       "      <td>[19690720, 45, 59, 2, 1, 1, 2, 3, 1, 3, 4, 3, ...</td>\n",
       "      <td>45</td>\n",
       "      <td>59</td>\n",
       "      <td>19690720</td>\n",
       "    </tr>\n",
       "  </tbody>\n",
       "</table>\n",
       "</div>"
      ],
      "text/plain": [
       "                                                      Y  x1  x2         y\n",
       "4559  [19690720, 45, 59, 2, 1, 1, 2, 3, 1, 3, 4, 3, ...  45  59  19690720"
      ]
     },
     "execution_count": 90,
     "metadata": {},
     "output_type": "execute_result"
    }
   ],
   "source": [
    "dfy"
   ]
  },
  {
   "cell_type": "code",
   "execution_count": 91,
   "metadata": {},
   "outputs": [
    {
     "name": "stdout",
     "output_type": "stream",
     "text": [
      "4559\n"
     ]
    }
   ],
   "source": [
    "# Get the specific output requested:\n",
    "# \"Find the input noun and verb that cause the program to produce the output 19690720. \n",
    "# What is 100 * noun + verb? (For example, if noun=12 and verb=2, the answer would be 1202.)\"\n",
    "row = dfy.iloc[0]\n",
    "noun = row['x1']\n",
    "verb = row['x2']\n",
    "y = noun*100 + verb\n",
    "print(y)\n",
    "# >> 4559"
   ]
  },
  {
   "cell_type": "markdown",
   "metadata": {},
   "source": [
    "# Problem 3a"
   ]
  },
  {
   "cell_type": "raw",
   "metadata": {},
   "source": [
    "Opening the front panel reveals a jumble of wires. Specifically, two wires are connected to a central port and extend outward on a grid. You trace the path each wire takes as it leaves the central port, one wire per line of text (your puzzle input).\n",
    "\n",
    "The wires twist and turn, but the two wires occasionally cross paths. To fix the circuit, you need to find the intersection point closest to the central port. Because the wires are on a grid, use the Manhattan distance for this measurement. While the wires do technically cross right at the central port where they both start, this point does not count, nor does a wire count as crossing with itself.\n",
    "\n",
    "For example, if the first wire's path is R8,U5,L5,D3, then starting from the central port (o), it goes right 8, up 5, left 5, and finally down 3:\n",
    "\n",
    "...........\n",
    "...........\n",
    "...........\n",
    "....+----+.\n",
    "....|....|.\n",
    "....|....|.\n",
    "....|....|.\n",
    ".........|.\n",
    ".o-------+.\n",
    "...........\n",
    "Then, if the second wire's path is U7,R6,D4,L4, it goes up 7, right 6, down 4, and left 4:\n",
    "\n",
    "...........\n",
    ".+-----+...\n",
    ".|.....|...\n",
    ".|..+--X-+.\n",
    ".|..|..|.|.\n",
    ".|.-X--+.|.\n",
    ".|..|....|.\n",
    ".|.......|.\n",
    ".o-------+.\n",
    "...........\n",
    "These wires cross at two locations (marked X), but the lower-left one is closer to the central port: its distance is 3 + 3 = 6.\n",
    "\n",
    "Here are a few more examples:\n",
    "\n",
    "R75,D30,R83,U83,L12,D49,R71,U7,L72\n",
    "U62,R66,U55,R34,D71,R55,D58,R83 = distance 159\n",
    "R98,U47,R26,D63,R33,U87,L62,D20,R33,U53,R51\n",
    "U98,R91,D20,R16,D67,R40,U7,R15,U6,R7 = distance 135\n",
    "What is the Manhattan distance from the central port to the closest intersection?"
   ]
  },
  {
   "cell_type": "code",
   "execution_count": 145,
   "metadata": {},
   "outputs": [
    {
     "data": {
      "text/plain": [
       "6"
      ]
     },
     "execution_count": 145,
     "metadata": {},
     "output_type": "execute_result"
    }
   ],
   "source": [
    "# Define key functions\n",
    "\n",
    "def f1(X):\n",
    "    '''Parse string into a series of directional steps'''\n",
    "    return [(x[0],int(x[1:])) for x in X.split(',')]\n",
    "\n",
    "def f2(steps):\n",
    "    '''Translate a series of directional steps into a path that includes the\n",
    "    vector coordinates of all locations visited along the path, excluding the origin'''\n",
    "    x = (0,0) # start at the origin\n",
    "    path = [] # record each location (excluding the origin)\n",
    "    unit_vectors = {'R':(1,0), 'L':(-1,0), 'U':(0,1), 'D':(0,-1)}\n",
    "    for (direction, distance) in steps:\n",
    "        v = unit_vectors[direction]\n",
    "        for _ in range(distance):\n",
    "            x = (x[0]+v[0], x[1]+v[1])\n",
    "            path.append(x)\n",
    "    return path\n",
    "            \n",
    "def f3(XA, XB):\n",
    "    '''Given two sets of vectors, return a dataframe with the common vectors \n",
    "    (that are in both sets) and the manhattan distance to the origin for each'''\n",
    "    XAB = set(XA).intersection(set(XB))\n",
    "    df = pd.DataFrame({'vector':list(XAB)})\n",
    "    df['manhattan_distance'] = df['vector'].map(lambda x: sum([abs(i) for i in x]))\n",
    "    return df\n",
    "\n",
    "def f(X):\n",
    "    '''Given a list of 2 strings, where each string represents a path in a 2D grid, \n",
    "    find the intersection point with the minimum manhattan distance to the origin,\n",
    "    and return this distance'''\n",
    "    XA = f2(f1(X[0]))\n",
    "    XB = f2(f1(X[1]))\n",
    "    df = f3(XA, XB)\n",
    "    y = df.manhattan_distance.min()\n",
    "    return y\n",
    "\n",
    "f(['R8,U5,L5,D3','U7,R6,D4,L4'])"
   ]
  },
  {
   "cell_type": "code",
   "execution_count": 139,
   "metadata": {
    "scrolled": true
   },
   "outputs": [
    {
     "name": "stdout",
     "output_type": "stream",
     "text": [
      "6 == 6\n",
      "159 == 159\n",
      "135 == 135\n"
     ]
    }
   ],
   "source": [
    "# Define test cases\n",
    "tests = [\n",
    "    (['R8,U5,L5,D3','U7,R6,D4,L4'], 6)\n",
    "    ,(['R75,D30,R83,U83,L12,D49,R71,U7,L72','U62,R66,U55,R34,D71,R55,D58,R8'], 159)\n",
    "    ,(['R98,U47,R26,D63,R33,U87,L62,D20,R33,U53,R51','U98,R91,D20,R16,D67,R40,U7,R15,U6,R7'], 135)\n",
    "]\n",
    "for (x,y) in tests:\n",
    "    fx = f(x)\n",
    "    print(f'{fx} == {y}')\n",
    "    assert fx==y, f'uh oh! {fx} != {y}'"
   ]
  },
  {
   "cell_type": "code",
   "execution_count": 140,
   "metadata": {},
   "outputs": [],
   "source": [
    "# pathA = f2(f1('R75,D30,R83,U83,L12,D49,R71,U7,L72'))\n",
    "# pathB = f2(f1('U62,R66,U55,R34,D71,R55,D58,R8'))"
   ]
  },
  {
   "cell_type": "code",
   "execution_count": 141,
   "metadata": {},
   "outputs": [],
   "source": [
    "# f3(pathA, pathB)"
   ]
  },
  {
   "cell_type": "code",
   "execution_count": null,
   "metadata": {},
   "outputs": [],
   "source": []
  },
  {
   "cell_type": "code",
   "execution_count": 142,
   "metadata": {},
   "outputs": [],
   "source": [
    "# Load input data\n",
    "path = 'projects/advent_of_code_2019/problem_03_input.txt'\n",
    "txt = open(path,'r').read()\n",
    "lines = txt.split('\\n')"
   ]
  },
  {
   "cell_type": "code",
   "execution_count": 144,
   "metadata": {},
   "outputs": [
    {
     "data": {
      "text/plain": [
       "870"
      ]
     },
     "execution_count": 144,
     "metadata": {},
     "output_type": "execute_result"
    }
   ],
   "source": [
    "f(lines)"
   ]
  },
  {
   "cell_type": "markdown",
   "metadata": {},
   "source": [
    "# Problem 3b"
   ]
  },
  {
   "cell_type": "raw",
   "metadata": {},
   "source": [
    "It turns out that this circuit is very timing-sensitive; you actually need to minimize the signal delay.\n",
    "\n",
    "To do this, calculate the number of steps each wire takes to reach each intersection; choose the intersection where the sum of both wires' steps is lowest. If a wire visits a position on the grid multiple times, use the steps value from the first time it visits that position when calculating the total value of a specific intersection.\n",
    "\n",
    "The number of steps a wire takes is the total number of grid squares the wire has entered to get to that location, including the intersection being considered. Again consider the example from above:\n",
    "\n",
    "...........\n",
    ".+-----+...\n",
    ".|.....|...\n",
    ".|..+--X-+.\n",
    ".|..|..|.|.\n",
    ".|.-X--+.|.\n",
    ".|..|....|.\n",
    ".|.......|.\n",
    ".o-------+.\n",
    "...........\n",
    "In the above example, the intersection closest to the central port is reached after 8+5+5+2 = 20 steps by the first wire and 7+6+4+3 = 20 steps by the second wire for a total of 20+20 = 40 steps.\n",
    "\n",
    "However, the top-right intersection is better: the first wire takes only 8+5+2 = 15 and the second wire takes only 7+6+2 = 15, a total of 15+15 = 30 steps.\n",
    "\n",
    "Here are the best steps for the extra examples from above:\n",
    "\n",
    "R75,D30,R83,U83,L12,D49,R71,U7,L72\n",
    "U62,R66,U55,R34,D71,R55,D58,R83 = 610 steps\n",
    "R98,U47,R26,D63,R33,U87,L62,D20,R33,U53,R51\n",
    "U98,R91,D20,R16,D67,R40,U7,R15,U6,R7 = 410 steps\n",
    "What is the fewest combined steps the wires must take to reach an intersection?"
   ]
  },
  {
   "cell_type": "code",
   "execution_count": 146,
   "metadata": {},
   "outputs": [],
   "source": [
    "def f(X):\n",
    "    XA = f2(f1(X[0]))\n",
    "    XB = f2(f1(X[1]))\n",
    "    df = f3(XA, XB)\n",
    "    df['steps_a'] = df.vector.map(lambda v: min([i+1 for i,x in enumerate(XA) if x==v]))\n",
    "    df['steps_b'] = df.vector.map(lambda v: min([i+1 for i,x in enumerate(XB) if x==v]))\n",
    "    df['steps_ab'] = df.apply(lambda x: x.steps_a + x.steps_b, axis=1)\n",
    "    y = df.steps_ab.min()\n",
    "    return y\n"
   ]
  },
  {
   "cell_type": "code",
   "execution_count": 155,
   "metadata": {},
   "outputs": [],
   "source": [
    "# Define test cases\n",
    "tests = [\n",
    "    (['R75,D30,R83,U83,L12,D49,R71,U7,L72','U62,R66,U55,R34,D71,R55,D58,R8'], 610)\n",
    "    ,(['R98,U47,R26,D63,R33,U87,L62,D20,R33,U53,R51','U98,R91,D20,R16,D67,R40,U7,R15,U6,R7'], 410)\n",
    "]\n",
    "for (x,y) in tests:\n",
    "    fx = f(x)\n",
    "    print(f'{fx} == {y}')\n",
    "    assert fx==y, f'uh oh! {fx} != {y}'\n"
   ]
  },
  {
   "cell_type": "code",
   "execution_count": 156,
   "metadata": {},
   "outputs": [
    {
     "data": {
      "text/html": [
       "<div>\n",
       "<style scoped>\n",
       "    .dataframe tbody tr th:only-of-type {\n",
       "        vertical-align: middle;\n",
       "    }\n",
       "\n",
       "    .dataframe tbody tr th {\n",
       "        vertical-align: top;\n",
       "    }\n",
       "\n",
       "    .dataframe thead th {\n",
       "        text-align: right;\n",
       "    }\n",
       "</style>\n",
       "<table border=\"1\" class=\"dataframe\">\n",
       "  <thead>\n",
       "    <tr style=\"text-align: right;\">\n",
       "      <th></th>\n",
       "      <th>vector</th>\n",
       "      <th>manhattan_distance</th>\n",
       "      <th>steps_a</th>\n",
       "      <th>steps_b</th>\n",
       "      <th>steps_ab</th>\n",
       "    </tr>\n",
       "  </thead>\n",
       "  <tbody>\n",
       "    <tr>\n",
       "      <th>0</th>\n",
       "      <td>(158, -12)</td>\n",
       "      <td>170</td>\n",
       "      <td>206</td>\n",
       "      <td>404</td>\n",
       "      <td>610</td>\n",
       "    </tr>\n",
       "    <tr>\n",
       "      <th>1</th>\n",
       "      <td>(146, 46)</td>\n",
       "      <td>192</td>\n",
       "      <td>290</td>\n",
       "      <td>334</td>\n",
       "      <td>624</td>\n",
       "    </tr>\n",
       "    <tr>\n",
       "      <th>2</th>\n",
       "      <td>(155, 4)</td>\n",
       "      <td>159</td>\n",
       "      <td>341</td>\n",
       "      <td>385</td>\n",
       "      <td>726</td>\n",
       "    </tr>\n",
       "    <tr>\n",
       "      <th>3</th>\n",
       "      <td>(155, 11)</td>\n",
       "      <td>166</td>\n",
       "      <td>472</td>\n",
       "      <td>378</td>\n",
       "      <td>850</td>\n",
       "    </tr>\n",
       "  </tbody>\n",
       "</table>\n",
       "</div>"
      ],
      "text/plain": [
       "       vector  manhattan_distance  steps_a  steps_b  steps_ab\n",
       "0  (158, -12)                 170      206      404       610\n",
       "1   (146, 46)                 192      290      334       624\n",
       "2    (155, 4)                 159      341      385       726\n",
       "3   (155, 11)                 166      472      378       850"
      ]
     },
     "execution_count": 156,
     "metadata": {},
     "output_type": "execute_result"
    }
   ],
   "source": [
    "df"
   ]
  },
  {
   "cell_type": "code",
   "execution_count": null,
   "metadata": {},
   "outputs": [],
   "source": []
  },
  {
   "cell_type": "code",
   "execution_count": null,
   "metadata": {},
   "outputs": [],
   "source": []
  },
  {
   "cell_type": "code",
   "execution_count": null,
   "metadata": {},
   "outputs": [],
   "source": []
  },
  {
   "cell_type": "code",
   "execution_count": null,
   "metadata": {},
   "outputs": [],
   "source": []
  },
  {
   "cell_type": "code",
   "execution_count": null,
   "metadata": {},
   "outputs": [],
   "source": []
  }
 ],
 "metadata": {
  "kernelspec": {
   "display_name": "Python 3",
   "language": "python",
   "name": "python3"
  },
  "language_info": {
   "codemirror_mode": {
    "name": "ipython",
    "version": 3
   },
   "file_extension": ".py",
   "mimetype": "text/x-python",
   "name": "python",
   "nbconvert_exporter": "python",
   "pygments_lexer": "ipython3",
   "version": "3.7.3"
  }
 },
 "nbformat": 4,
 "nbformat_minor": 2
}
